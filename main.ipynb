{
 "cells": [
  {
   "cell_type": "code",
   "execution_count": 87,
   "metadata": {},
   "outputs": [],
   "source": [
    "from datetime import datetime\n",
    "import numpy as np"
   ]
  },
  {
   "cell_type": "code",
   "execution_count": 88,
   "metadata": {},
   "outputs": [],
   "source": [
    "class Discount:\n",
    "    def __init__(self, value, description=None):\n",
    "        if value < 0:\n",
    "            raise ValueError(\"Discount value cannot be negative.\")\n",
    "        self.value = value\n",
    "        self.description = description\n",
    "\n",
    "    def apply_discount(self, price):\n",
    "        return price * (1 - self.value / 100)\n",
    "\n",
    "    def __str__(self):\n",
    "        return f\"{self.value}% off\"\n",
    "\n",
    "class Product:\n",
    "    def __init__(self,name,category,stock,price,code):\n",
    "        if stock < 0:\n",
    "            raise ValueError(\"Stock cannot be negative.\")\n",
    "        if price < 0:\n",
    "            raise ValueError(\"Price cannot be negative.\")\n",
    "        self.name=name\n",
    "        self.category=category\n",
    "        self.stock=stock\n",
    "        self.price=price\n",
    "        self.code=code\n",
    "\n",
    "    def update_price(self,increasement):\n",
    "        self.price=self.price * (1+(increasement/100))\n",
    "\n",
    "    def update_stock(self,sold_stock):\n",
    "        self.stock=self.stock-sold_stock\n",
    "\n",
    "    def __str__(self):\n",
    "        return f\"{self.name}({self.category}): stock={self.stock}, price={self.price:.2f}, id={self.code}\"\n",
    "        \n",
    "class PerishableProduct(Product):\n",
    "    def __init__(self,name,category,stock,price,code,expiration_date):\n",
    "        super().__init__(name, category, stock, price, code)\n",
    "        self.expiration_date=datetime.strptime(expiration_date,\"%Y-%m-%d\")\n",
    "    def is_expired(self):\n",
    "        return datetime.now()>self.expiration_date\n",
    "    def __str__(self):\n",
    "        status = \"Expired\" if self.is_expired() else \"Valid\"\n",
    "        return super().__str__() + f\", Expiration Date: {self.expiration_date.date()} ({status})\"\n",
    "\n",
    "class ElectronicProduct(Product):\n",
    "    def __init__(self,name,category,stock,price,code,ram,battery,cpu):\n",
    "        super().__init__(name, category, stock, price, code)\n",
    "        self.ram=ram\n",
    "        self.battery=battery\n",
    "        self.cpu=cpu\n",
    "    def __str__(self):\n",
    "        return super().__str__() + f\", RAM:{self.ram}, Battery:{self.battery}, cpu:{self.cpu}\"\n",
    "\n",
    "class Inventory:\n",
    "    def __init__(self):\n",
    "        self.products={}\n",
    "\n",
    "    def add_product(self,product):\n",
    "        if product.code in self.products:\n",
    "            raise ValueError(\"This product is already in the inventory.\")\n",
    "        self.products[product.code]=product\n",
    "\n",
    "    def remove_product(self,product):\n",
    "        if product.code not in self.products:\n",
    "            raise ValueError(\"This product is not in the inventory\")\n",
    "        del self.products[product.code]\n",
    "    def update_product_price(self,code,price_increase):\n",
    "        self.products[code].update_price(price_increase)\n",
    "\n",
    "    def update_product_stock(self,code,items_sold):\n",
    "        self.products[code].update_stock(items_sold)\n",
    "\n",
    "    def get_all_products(self):\n",
    "        return list(self.products.values())\n",
    "\n",
    "    def __str__(self):\n",
    "        return f\"Inventory. Total number of items:{len(self.products)}\"\n",
    "    \n",
    "class OrdersHistory:\n",
    "    def __init__(self):\n",
    "        self.orders=[]\n",
    "\n",
    "    def add_order(self,order):\n",
    "        self.orders.append(order)\n",
    "\n",
    "    def get_all_orders(self):\n",
    "        return self.orders\n",
    "    \n",
    "    def __str__(self):\n",
    "        return f\"Order History: {len(self.orders)} orders\"\n",
    "\n",
    "class Store:\n",
    "    def __init__(self,name,location,code):\n",
    "        self.name = name\n",
    "        self.location = location\n",
    "        self.code = code\n",
    "        self.inventory=Inventory()\n",
    "        self.orders_history=OrdersHistory()\n",
    "    \n",
    "    def list_all_products(self):\n",
    "        products=self.inventory.get_all_products()\n",
    "        if not products:\n",
    "            print(f\"The store {self.name}has no inventory.\")\n",
    "        else:\n",
    "            print(f\"Products in the store {self.name}:\")\n",
    "            for product in products:\n",
    "                print(product)\n",
    "    def list_all_orders(self):\n",
    "        orders=self.orders_history.get_all_orders()\n",
    "        if not orders:\n",
    "            print(f\"The store {self.name}has no orders.\")\n",
    "        else:\n",
    "            print(f\"Orders in the store {self.name}:\")\n",
    "            for order in orders:\n",
    "                print(order)\n",
    "    def update_location(self,new_location):\n",
    "        self.location=new_location\n",
    "\n",
    "    def __str__(self):\n",
    "        return f\"{self.name} located in {self.location} with an id {self.code}\"\n",
    "\n",
    "class StoreOnline(Store):\n",
    "    def __init__(self,name,location,code,url):\n",
    "        super().__init__(name,location,code)\n",
    "        self.url=url\n",
    "\n",
    "    def __str__(self):\n",
    "        return super().__str__() + f\", Online URL:{self.url}\"\n",
    "\n",
    "class Customer:\n",
    "    def __init__(self,name,address,electronic_email):\n",
    "        self.name = name\n",
    "        self.address = address\n",
    "        self.electronic_email = electronic_email\n",
    "    def __str__(self):\n",
    "        return f\"Name:{self.name}, Address:{self.address},email:{self.electronic_email}\"\n",
    "\n",
    "class Orders:\n",
    "    def __init__(self,order_id,tienda,products_quantities_dicc,customer,distance,discount):\n",
    "        self.order_id = order_id\n",
    "        self.tienda=tienda\n",
    "        self.products_quantities_dicc=products_quantities_dicc\n",
    "        self.customer = customer\n",
    "        self.status=\"Pending\"\n",
    "        self.distance=distance\n",
    "        self.discount=discount\n",
    "    def cost_per_transport(self):\n",
    "        cost_base = 2\n",
    "        price_per_km = 0.1\n",
    "        cost = cost_base if self.distance <= 10 else cost_base + price_per_km * (self.distance - 10)    \n",
    "        return cost\n",
    "    \n",
    "    def total_cost_calculation(self):\n",
    "        total_cost=0\n",
    "        for p,q in self.products_quantities_dicc.items():\n",
    "\n",
    "            if q > p.stock:\n",
    "                print(f\"The maximum amount of products available is {p.stock}\")\n",
    "                q=p.stock\n",
    "            total_cost += q*p.price\n",
    "            if self.discount:\n",
    "                total_cost -= p.price * (1-(self.discount.value/100))\n",
    "        total_cost += self.cost_per_transport()\n",
    "        return total_cost \n",
    "\n",
    "    def set_status(self, new_status):\n",
    "        self.status=new_status\n",
    "\n",
    "    def process_order(self):\n",
    "        products_to_send=0\n",
    "        for p,q in self.products_quantities_dicc.items():\n",
    "            if q > p.stock:\n",
    "                products_to_send=p.stock\n",
    "                self.tienda.inventory.update_product_stock(p.code,products_to_send)\n",
    "            else:\n",
    "                products_to_send=q\n",
    "                self.tienda.inventory.update_product_stock(p.code,products_to_send)\n",
    "        self.set_status('Processed')\n",
    "        \n",
    "    def __str__(self):\n",
    "        return f\"Costumer {self.customer}, Tienda {self.tienda.code}, Identificador {self.order_id},Total: {self.total_cost_calculation():.2f}, Status: {self.status}\"\n",
    "\n",
    "class Transport:\n",
    "    def __init__(self,order,driver_name):\n",
    "        self.order=order\n",
    "        self.driver_name=driver_name\n",
    "    def finish_order(self):\n",
    "        self.order.set_status(\"Delivered\")\n",
    "    \n",
    "class StoreManager:\n",
    "    def __init__(self):\n",
    "        self.stores={}\n",
    "    def add_store(self,store):\n",
    "        if store.name in self.stores:\n",
    "            raise ValueError(\"This store is already in the storemaneger.\")\n",
    "        self.stores[store.code]=store\n",
    "    def remove_store(self,store):\n",
    "        if store.code not in self.stores:\n",
    "            raise ValueError(\"This store is not in the storemaneger\")\n",
    "        del self.stores[store.code]\n",
    "    \n",
    "    def update_store_location(self,code,new_location):\n",
    "        self.stores[code].update_location(new_location)\n",
    "\n",
    "    def list_all_stores(self):\n",
    "        for i in self.stores.values():\n",
    "            print(i)\n",
    "\n",
    "    def __str__(self):\n",
    "        return f\"Store Manager. Total number of stores:{len(self.stores)} \""
   ]
  },
  {
   "cell_type": "code",
   "execution_count": 89,
   "metadata": {},
   "outputs": [],
   "source": [
    "cost=-np.inf"
   ]
  },
  {
   "cell_type": "code",
   "execution_count": 90,
   "metadata": {},
   "outputs": [],
   "source": [
    "cost =0"
   ]
  },
  {
   "cell_type": "code",
   "execution_count": 91,
   "metadata": {},
   "outputs": [],
   "source": [
    "product1=PerishableProduct('Leche de Avena','Lacteo',10,1.50,'P001',\"2025-05-15\")"
   ]
  },
  {
   "cell_type": "code",
   "execution_count": 92,
   "metadata": {},
   "outputs": [],
   "source": [
    "product2=PerishableProduct('Leche de coco','Lacteo',10,1.70,'P002',\"2024-05-15\")"
   ]
  },
  {
   "cell_type": "code",
   "execution_count": 93,
   "metadata": {},
   "outputs": [],
   "source": [
    "product3=PerishableProduct('Platano','Fruta',1000,2.10,'P003',\"2025-05-15\")"
   ]
  },
  {
   "cell_type": "code",
   "execution_count": 94,
   "metadata": {},
   "outputs": [],
   "source": [
    "product4=ElectronicProduct('Dell I9','Ordenador',200,2000,'PE004',8,5000,10)"
   ]
  },
  {
   "cell_type": "code",
   "execution_count": 95,
   "metadata": {},
   "outputs": [],
   "source": [
    "tienda1=StoreOnline('Amazon','Luxembourg city,Luxembourg','TO0001','www.amazon.lu')"
   ]
  },
  {
   "cell_type": "code",
   "execution_count": 96,
   "metadata": {},
   "outputs": [],
   "source": [
    "tienda1.inventory.add_product(product1)\n",
    "tienda1.inventory.add_product(product2)\n",
    "tienda1.inventory.add_product(product3)\n",
    "tienda1.inventory.add_product(product4)\n"
   ]
  },
  {
   "cell_type": "code",
   "execution_count": 97,
   "metadata": {},
   "outputs": [
    {
     "name": "stdout",
     "output_type": "stream",
     "text": [
      "Products in the store Amazon:\n",
      "Leche de Avena(Lacteo): stock=10, price=1.50, id=P001, Expiration Date: 2025-05-15 (Valid)\n",
      "Leche de coco(Lacteo): stock=10, price=1.70, id=P002, Expiration Date: 2024-05-15 (Expired)\n",
      "Platano(Fruta): stock=1000, price=2.10, id=P003, Expiration Date: 2025-05-15 (Valid)\n",
      "Dell I9(Ordenador): stock=200, price=2000.00, id=PE004, RAM:8, Battery:5000, cpu:10\n"
     ]
    }
   ],
   "source": [
    "tienda1.list_all_products()"
   ]
  },
  {
   "cell_type": "code",
   "execution_count": 98,
   "metadata": {},
   "outputs": [],
   "source": [
    "lista_de_tiendas=StoreManager()"
   ]
  },
  {
   "cell_type": "code",
   "execution_count": 99,
   "metadata": {},
   "outputs": [],
   "source": [
    "lista_de_tiendas.add_store(tienda1)"
   ]
  },
  {
   "cell_type": "code",
   "execution_count": 100,
   "metadata": {},
   "outputs": [
    {
     "name": "stdout",
     "output_type": "stream",
     "text": [
      "Amazon located in Luxembourg city,Luxembourg with an id TO0001, Online URL:www.amazon.lu\n"
     ]
    }
   ],
   "source": [
    "lista_de_tiendas.list_all_stores()"
   ]
  },
  {
   "cell_type": "code",
   "execution_count": 101,
   "metadata": {},
   "outputs": [],
   "source": [
    "customer1=Customer('Gabi','Mislata,Valencia','gabi@vlc.lux')"
   ]
  },
  {
   "cell_type": "code",
   "execution_count": 102,
   "metadata": {},
   "outputs": [],
   "source": [
    "discount1=Discount(5,'Black Friday')"
   ]
  },
  {
   "cell_type": "code",
   "execution_count": 103,
   "metadata": {},
   "outputs": [],
   "source": [
    "order1=Orders('order001',tienda1,{product4:2},customer1,100,discount1)"
   ]
  },
  {
   "cell_type": "code",
   "execution_count": 104,
   "metadata": {},
   "outputs": [],
   "source": [
    "transport1=Transport(order1,'Juan Vazquez')"
   ]
  },
  {
   "cell_type": "code",
   "execution_count": 105,
   "metadata": {},
   "outputs": [],
   "source": [
    "order1.process_order()"
   ]
  },
  {
   "cell_type": "code",
   "execution_count": 106,
   "metadata": {},
   "outputs": [
    {
     "name": "stdout",
     "output_type": "stream",
     "text": [
      "Costumer Name:Gabi, Address:Mislata,Valencia,email:gabi@vlc.lux, Tienda TO0001, Identificador order001,Total: 2111.00, Status: Processed\n"
     ]
    }
   ],
   "source": [
    "print(order1)"
   ]
  }
 ],
 "metadata": {
  "kernelspec": {
   "display_name": ".env",
   "language": "python",
   "name": "python3"
  },
  "language_info": {
   "codemirror_mode": {
    "name": "ipython",
    "version": 3
   },
   "file_extension": ".py",
   "mimetype": "text/x-python",
   "name": "python",
   "nbconvert_exporter": "python",
   "pygments_lexer": "ipython3",
   "version": "3.11.5"
  }
 },
 "nbformat": 4,
 "nbformat_minor": 2
}
